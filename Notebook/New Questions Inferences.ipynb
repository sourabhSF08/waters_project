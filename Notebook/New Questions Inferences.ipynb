{
 "cells": [
  {
   "cell_type": "markdown",
   "id": "776afc84",
   "metadata": {},
   "source": [
    "# Importing Libraries and Reading Data"
   ]
  },
  {
   "cell_type": "code",
   "execution_count": 116,
   "id": "34012c9f",
   "metadata": {},
   "outputs": [],
   "source": [
    "import numpy as np\n",
    "import pandas as pd\n",
    "import matplotlib.pyplot as plt\n",
    "import seaborn as sns\n",
    "import warnings\n",
    "warnings.simplefilter(\"ignore\")\n",
    "\n",
    "# MODELLING\n",
    "from sklearn.linear_model import LogisticRegression\n",
    "from sklearn.svm import SVC\n",
    "from sklearn.neighbors import KNeighborsClassifier\n",
    "from sklearn.ensemble import RandomForestClassifier, AdaBoostClassifier, ExtraTreesClassifier\n",
    "\n",
    "\n",
    "# DATA VALIDATION AND METRIC.\n",
    "from sklearn.model_selection import train_test_split, StratifiedKFold, cross_val_score, KFold\n",
    "from sklearn.metrics import recall_score, roc_auc_score, make_scorer, roc_curve,log_loss, accuracy_score, plot_confusion_matrix, classification_report\n",
    "from sklearn.feature_selection import SelectKBest,chi2,f_regression, f_classif\n",
    "from sklearn.decomposition import PCA\n",
    "from sklearn.calibration import calibration_curve\n",
    "\n",
    "\n",
    "\n",
    "# HIDING AND MAGIC COMMANDS\n",
    "import warnings\n",
    "warnings.simplefilter(\"ignore\")\n",
    "%matplotlib inline"
   ]
  },
  {
   "cell_type": "code",
   "execution_count": 21,
   "id": "e49b5d38",
   "metadata": {},
   "outputs": [],
   "source": [
    "data = pd.read_csv('Preprocessed_data.csv')"
   ]
  },
  {
   "cell_type": "code",
   "execution_count": 22,
   "id": "7d1406ae",
   "metadata": {},
   "outputs": [
    {
     "data": {
      "text/html": [
       "<div>\n",
       "<style scoped>\n",
       "    .dataframe tbody tr th:only-of-type {\n",
       "        vertical-align: middle;\n",
       "    }\n",
       "\n",
       "    .dataframe tbody tr th {\n",
       "        vertical-align: top;\n",
       "    }\n",
       "\n",
       "    .dataframe thead th {\n",
       "        text-align: right;\n",
       "    }\n",
       "</style>\n",
       "<table border=\"1\" class=\"dataframe\">\n",
       "  <thead>\n",
       "    <tr style=\"text-align: right;\">\n",
       "      <th></th>\n",
       "      <th>accountsapid</th>\n",
       "      <th>Single_Order</th>\n",
       "      <th>2019</th>\n",
       "      <th>2020</th>\n",
       "      <th>2021</th>\n",
       "      <th>Churn_Rule_year_wise</th>\n",
       "      <th>Churn_Rule_avg_cycle</th>\n",
       "      <th>Median_Days</th>\n",
       "      <th>3_years_cycle</th>\n",
       "      <th>Final_Churn</th>\n",
       "      <th>...</th>\n",
       "      <th>FirstOrderedDate_Year</th>\n",
       "      <th>FirstOrderedDate_Month</th>\n",
       "      <th>FirstOrderedDate_Week</th>\n",
       "      <th>FirstOrderedDate_Day</th>\n",
       "      <th>FirstOrderedDate_Dayofweek</th>\n",
       "      <th>LastOrderedDate_Year</th>\n",
       "      <th>LastOrderedDate_Month</th>\n",
       "      <th>LastOrderedDate_Week</th>\n",
       "      <th>LastOrderedDate_Day</th>\n",
       "      <th>LastOrderedDate_Dayofweek</th>\n",
       "    </tr>\n",
       "  </thead>\n",
       "  <tbody>\n",
       "    <tr>\n",
       "      <th>0</th>\n",
       "      <td>17876.0</td>\n",
       "      <td>0</td>\n",
       "      <td>1</td>\n",
       "      <td>0</td>\n",
       "      <td>0</td>\n",
       "      <td>1</td>\n",
       "      <td>2</td>\n",
       "      <td>73.0</td>\n",
       "      <td>219.0</td>\n",
       "      <td>1</td>\n",
       "      <td>...</td>\n",
       "      <td>2019</td>\n",
       "      <td>9</td>\n",
       "      <td>36</td>\n",
       "      <td>3</td>\n",
       "      <td>1</td>\n",
       "      <td>2019</td>\n",
       "      <td>11</td>\n",
       "      <td>46</td>\n",
       "      <td>15</td>\n",
       "      <td>4</td>\n",
       "    </tr>\n",
       "    <tr>\n",
       "      <th>1</th>\n",
       "      <td>17882.0</td>\n",
       "      <td>0</td>\n",
       "      <td>1</td>\n",
       "      <td>1</td>\n",
       "      <td>1</td>\n",
       "      <td>0</td>\n",
       "      <td>1</td>\n",
       "      <td>20.0</td>\n",
       "      <td>60.0</td>\n",
       "      <td>0</td>\n",
       "      <td>...</td>\n",
       "      <td>2019</td>\n",
       "      <td>1</td>\n",
       "      <td>5</td>\n",
       "      <td>29</td>\n",
       "      <td>1</td>\n",
       "      <td>2021</td>\n",
       "      <td>6</td>\n",
       "      <td>22</td>\n",
       "      <td>4</td>\n",
       "      <td>4</td>\n",
       "    </tr>\n",
       "    <tr>\n",
       "      <th>2</th>\n",
       "      <td>17985.0</td>\n",
       "      <td>0</td>\n",
       "      <td>1</td>\n",
       "      <td>1</td>\n",
       "      <td>1</td>\n",
       "      <td>0</td>\n",
       "      <td>1</td>\n",
       "      <td>174.0</td>\n",
       "      <td>522.0</td>\n",
       "      <td>0</td>\n",
       "      <td>...</td>\n",
       "      <td>2019</td>\n",
       "      <td>2</td>\n",
       "      <td>6</td>\n",
       "      <td>7</td>\n",
       "      <td>3</td>\n",
       "      <td>2021</td>\n",
       "      <td>6</td>\n",
       "      <td>24</td>\n",
       "      <td>18</td>\n",
       "      <td>4</td>\n",
       "    </tr>\n",
       "    <tr>\n",
       "      <th>3</th>\n",
       "      <td>22286.0</td>\n",
       "      <td>0</td>\n",
       "      <td>1</td>\n",
       "      <td>1</td>\n",
       "      <td>1</td>\n",
       "      <td>0</td>\n",
       "      <td>1</td>\n",
       "      <td>21.0</td>\n",
       "      <td>63.0</td>\n",
       "      <td>0</td>\n",
       "      <td>...</td>\n",
       "      <td>2019</td>\n",
       "      <td>1</td>\n",
       "      <td>3</td>\n",
       "      <td>17</td>\n",
       "      <td>3</td>\n",
       "      <td>2021</td>\n",
       "      <td>5</td>\n",
       "      <td>20</td>\n",
       "      <td>20</td>\n",
       "      <td>3</td>\n",
       "    </tr>\n",
       "    <tr>\n",
       "      <th>4</th>\n",
       "      <td>19780.0</td>\n",
       "      <td>0</td>\n",
       "      <td>1</td>\n",
       "      <td>1</td>\n",
       "      <td>1</td>\n",
       "      <td>0</td>\n",
       "      <td>1</td>\n",
       "      <td>42.0</td>\n",
       "      <td>126.0</td>\n",
       "      <td>0</td>\n",
       "      <td>...</td>\n",
       "      <td>2019</td>\n",
       "      <td>3</td>\n",
       "      <td>9</td>\n",
       "      <td>1</td>\n",
       "      <td>4</td>\n",
       "      <td>2021</td>\n",
       "      <td>3</td>\n",
       "      <td>13</td>\n",
       "      <td>31</td>\n",
       "      <td>2</td>\n",
       "    </tr>\n",
       "  </tbody>\n",
       "</table>\n",
       "<p>5 rows × 32 columns</p>\n",
       "</div>"
      ],
      "text/plain": [
       "   accountsapid  Single_Order  2019  2020  2021  Churn_Rule_year_wise  \\\n",
       "0       17876.0             0     1     0     0                     1   \n",
       "1       17882.0             0     1     1     1                     0   \n",
       "2       17985.0             0     1     1     1                     0   \n",
       "3       22286.0             0     1     1     1                     0   \n",
       "4       19780.0             0     1     1     1                     0   \n",
       "\n",
       "   Churn_Rule_avg_cycle  Median_Days  3_years_cycle  Final_Churn  ...  \\\n",
       "0                     2         73.0          219.0            1  ...   \n",
       "1                     1         20.0           60.0            0  ...   \n",
       "2                     1        174.0          522.0            0  ...   \n",
       "3                     1         21.0           63.0            0  ...   \n",
       "4                     1         42.0          126.0            0  ...   \n",
       "\n",
       "   FirstOrderedDate_Year  FirstOrderedDate_Month  FirstOrderedDate_Week  \\\n",
       "0                   2019                       9                     36   \n",
       "1                   2019                       1                      5   \n",
       "2                   2019                       2                      6   \n",
       "3                   2019                       1                      3   \n",
       "4                   2019                       3                      9   \n",
       "\n",
       "   FirstOrderedDate_Day  FirstOrderedDate_Dayofweek  LastOrderedDate_Year  \\\n",
       "0                     3                           1                  2019   \n",
       "1                    29                           1                  2021   \n",
       "2                     7                           3                  2021   \n",
       "3                    17                           3                  2021   \n",
       "4                     1                           4                  2021   \n",
       "\n",
       "   LastOrderedDate_Month  LastOrderedDate_Week  LastOrderedDate_Day  \\\n",
       "0                     11                    46                   15   \n",
       "1                      6                    22                    4   \n",
       "2                      6                    24                   18   \n",
       "3                      5                    20                   20   \n",
       "4                      3                    13                   31   \n",
       "\n",
       "   LastOrderedDate_Dayofweek  \n",
       "0                          4  \n",
       "1                          4  \n",
       "2                          4  \n",
       "3                          3  \n",
       "4                          2  \n",
       "\n",
       "[5 rows x 32 columns]"
      ]
     },
     "execution_count": 22,
     "metadata": {},
     "output_type": "execute_result"
    }
   ],
   "source": [
    "data.head()"
   ]
  },
  {
   "cell_type": "code",
   "execution_count": 23,
   "id": "cacd96b8",
   "metadata": {},
   "outputs": [
    {
     "name": "stdout",
     "output_type": "stream",
     "text": [
      "<class 'pandas.core.frame.DataFrame'>\n",
      "RangeIndex: 9396 entries, 0 to 9395\n",
      "Data columns (total 32 columns):\n",
      " #   Column                         Non-Null Count  Dtype  \n",
      "---  ------                         --------------  -----  \n",
      " 0   accountsapid                   9396 non-null   float64\n",
      " 1   Single_Order                   9396 non-null   int64  \n",
      " 2   2019                           9396 non-null   int64  \n",
      " 3   2020                           9396 non-null   int64  \n",
      " 4   2021                           9396 non-null   int64  \n",
      " 5   Churn_Rule_year_wise           9396 non-null   int64  \n",
      " 6   Churn_Rule_avg_cycle           9396 non-null   int64  \n",
      " 7   Median_Days                    9396 non-null   float64\n",
      " 8   3_years_cycle                  9396 non-null   float64\n",
      " 9   Final_Churn                    9396 non-null   int64  \n",
      " 10  TotalOrderNumber               9396 non-null   float64\n",
      " 11  NumQtrsPerOrder                9396 non-null   float64\n",
      " 12  OrderChannel_NonDigital        9396 non-null   int64  \n",
      " 13  OrderChannel_EProcurement      9396 non-null   int64  \n",
      " 14  OrderChannel_ECommerce         9396 non-null   int64  \n",
      " 15  Recency                        9396 non-null   float64\n",
      " 16  Frequency                      9396 non-null   float64\n",
      " 17  Monetary                       9396 non-null   float64\n",
      " 18  RFM_Score                      9396 non-null   int64  \n",
      " 19  CountryCode                    9396 non-null   int64  \n",
      " 20  Average_years_taken_per order  9396 non-null   float64\n",
      " 21  Orders year wise               9396 non-null   int64  \n",
      " 22  FirstOrderedDate_Year          9396 non-null   int64  \n",
      " 23  FirstOrderedDate_Month         9396 non-null   int64  \n",
      " 24  FirstOrderedDate_Week          9396 non-null   int64  \n",
      " 25  FirstOrderedDate_Day           9396 non-null   int64  \n",
      " 26  FirstOrderedDate_Dayofweek     9396 non-null   int64  \n",
      " 27  LastOrderedDate_Year           9396 non-null   int64  \n",
      " 28  LastOrderedDate_Month          9396 non-null   int64  \n",
      " 29  LastOrderedDate_Week           9396 non-null   int64  \n",
      " 30  LastOrderedDate_Day            9396 non-null   int64  \n",
      " 31  LastOrderedDate_Dayofweek      9396 non-null   int64  \n",
      "dtypes: float64(9), int64(23)\n",
      "memory usage: 2.3 MB\n"
     ]
    }
   ],
   "source": [
    "data.info()"
   ]
  },
  {
   "cell_type": "code",
   "execution_count": 5,
   "id": "b1362a9a",
   "metadata": {},
   "outputs": [
    {
     "data": {
      "text/plain": [
       "0     2.0\n",
       "1    33.0\n",
       "2     5.0\n",
       "3    36.0\n",
       "4    16.0\n",
       "Name: TotalOrderNumber, dtype: float64"
      ]
     },
     "execution_count": 5,
     "metadata": {},
     "output_type": "execute_result"
    }
   ],
   "source": [
    "data['TotalOrderNumber'].head()"
   ]
  },
  {
   "cell_type": "markdown",
   "id": "6c9746d3",
   "metadata": {},
   "source": [
    "# Questions Asked"
   ]
  },
  {
   "cell_type": "markdown",
   "id": "0312702b",
   "metadata": {},
   "source": [
    "### Reason why purchase cycle is long ?\n",
    "- Let us firstly see the distribution of the Median Data(Average Purchase Cycle).\n"
   ]
  },
  {
   "cell_type": "code",
   "execution_count": 6,
   "id": "50c46b66",
   "metadata": {},
   "outputs": [
    {
     "data": {
      "image/png": "[encoded data removed]",
      "text/plain": [
       "<Figure size 864x720 with 1 Axes>"
      ]
     },
     "metadata": {
      "needs_background": "light"
     },
     "output_type": "display_data"
    }
   ],
   "source": [
    "fig = plt.figure(figsize=(12,10))\n",
    "sns.distplot(data['Median_Days']);"
   ]
  },
  {
   "cell_type": "code",
   "execution_count": 7,
   "id": "abb8ecb2",
   "metadata": {},
   "outputs": [
    {
     "name": "stdout",
     "output_type": "stream",
     "text": [
      "At 0.1 quantile value is 0.0\n",
      "At 0.1473684210526316 quantile value is 0.0\n",
      "At 0.19473684210526315 quantile value is 0.0\n",
      "At 0.24210526315789474 quantile value is 0.0\n",
      "At 0.2894736842105263 quantile value is 0.0\n",
      "At 0.33684210526315794 quantile value is 0.0\n",
      "At 0.38421052631578945 quantile value is 4.0\n",
      "At 0.43157894736842106 quantile value is 11.0\n",
      "At 0.4789473684210527 quantile value is 18.0\n",
      "At 0.5263157894736842 quantile value is 25.0\n",
      "At 0.5736842105263158 quantile value is 32.0\n",
      "At 0.6210526315789474 quantile value is 41.0\n",
      "At 0.6684210526315789 quantile value is 52.0\n",
      "At 0.7157894736842105 quantile value is 66.0\n",
      "At 0.7631578947368421 quantile value is 84.0\n",
      "At 0.8105263157894737 quantile value is 110.0\n",
      "At 0.8578947368421053 quantile value is 150.0\n",
      "At 0.9052631578947369 quantile value is 215.0\n",
      "At 0.9526315789473684 quantile value is 332.0\n",
      "At 1.0 quantile value is 855.0\n"
     ]
    }
   ],
   "source": [
    "quantiles = np.linspace(0.1,1,20)\n",
    "for quant in quantiles:\n",
    "    value=data['Median_Days'].quantile(quant)\n",
    "    print(f'At {quant} quantile value is {value}')"
   ]
  },
  {
   "cell_type": "markdown",
   "id": "630a12cc",
   "metadata": {},
   "source": [
    "**Observations:**\n",
    "- About **80%** of the people have **Average purchase cycle** less than **100 Days**.\n",
    "- About **20%** of the people have **Average Purchase cycle** greater than **100 Days**.\n",
    "- Let us Observe the number of people who are **Churning** where the **Average purchase cycle** greater than **100 Days**."
   ]
  },
  {
   "cell_type": "code",
   "execution_count": 8,
   "id": "94475b6d",
   "metadata": {},
   "outputs": [
    {
     "data": {
      "image/png": "[encoded data removed]",
      "text/plain": [
       "<Figure size 432x288 with 1 Axes>"
      ]
     },
     "metadata": {
      "needs_background": "light"
     },
     "output_type": "display_data"
    }
   ],
   "source": [
    "sns.countplot(data[data['Median_Days']>100]['Final_Churn']);\n",
    "plt.ylabel('No. of IDs');"
   ]
  },
  {
   "cell_type": "markdown",
   "id": "9682eaa8",
   "metadata": {},
   "source": [
    "**Observations:**\n",
    "- **logically** persons who have **Average purchase cycle** greater than **100 Days should Churn** but according to the **Churn_Rule_avg_cycle** he would be saved as the **Difference in today's Date and his purchase would be higher**.\n",
    "- About **90%** of the people who have **Average purchase cycle** greater than **100 Days** should actually **churn** but are being saved due to **Second Rule**."
   ]
  },
  {
   "cell_type": "markdown",
   "id": "caea13e7",
   "metadata": {},
   "source": [
    "- Let us look at their total order patterns"
   ]
  },
  {
   "cell_type": "code",
   "execution_count": 9,
   "id": "bf546de7",
   "metadata": {},
   "outputs": [],
   "source": [
    "median_greater_100_days_data = data[data['Median_Days']>100]"
   ]
  },
  {
   "cell_type": "code",
   "execution_count": 10,
   "id": "6d35eb03",
   "metadata": {},
   "outputs": [
    {
     "data": {
      "text/html": [
       "<div>\n",
       "<style scoped>\n",
       "    .dataframe tbody tr th:only-of-type {\n",
       "        vertical-align: middle;\n",
       "    }\n",
       "\n",
       "    .dataframe tbody tr th {\n",
       "        vertical-align: top;\n",
       "    }\n",
       "\n",
       "    .dataframe thead th {\n",
       "        text-align: right;\n",
       "    }\n",
       "</style>\n",
       "<table border=\"1\" class=\"dataframe\">\n",
       "  <thead>\n",
       "    <tr style=\"text-align: right;\">\n",
       "      <th></th>\n",
       "      <th>accountsapid</th>\n",
       "      <th>Single_Order</th>\n",
       "      <th>2019</th>\n",
       "      <th>2020</th>\n",
       "      <th>2021</th>\n",
       "      <th>Churn_Rule_year_wise</th>\n",
       "      <th>Churn_Rule_avg_cycle</th>\n",
       "      <th>Median_Days</th>\n",
       "      <th>3_years_cycle</th>\n",
       "      <th>Final_Churn</th>\n",
       "      <th>...</th>\n",
       "      <th>FirstOrderedDate_Year</th>\n",
       "      <th>FirstOrderedDate_Month</th>\n",
       "      <th>FirstOrderedDate_Week</th>\n",
       "      <th>FirstOrderedDate_Day</th>\n",
       "      <th>FirstOrderedDate_Dayofweek</th>\n",
       "      <th>LastOrderedDate_Year</th>\n",
       "      <th>LastOrderedDate_Month</th>\n",
       "      <th>LastOrderedDate_Week</th>\n",
       "      <th>LastOrderedDate_Day</th>\n",
       "      <th>LastOrderedDate_Dayofweek</th>\n",
       "    </tr>\n",
       "  </thead>\n",
       "  <tbody>\n",
       "    <tr>\n",
       "      <th>2</th>\n",
       "      <td>17985.0</td>\n",
       "      <td>0</td>\n",
       "      <td>1</td>\n",
       "      <td>1</td>\n",
       "      <td>1</td>\n",
       "      <td>0</td>\n",
       "      <td>1</td>\n",
       "      <td>174.0</td>\n",
       "      <td>522.0</td>\n",
       "      <td>0</td>\n",
       "      <td>...</td>\n",
       "      <td>2019</td>\n",
       "      <td>2</td>\n",
       "      <td>6</td>\n",
       "      <td>7</td>\n",
       "      <td>3</td>\n",
       "      <td>2021</td>\n",
       "      <td>6</td>\n",
       "      <td>24</td>\n",
       "      <td>18</td>\n",
       "      <td>4</td>\n",
       "    </tr>\n",
       "    <tr>\n",
       "      <th>10</th>\n",
       "      <td>18851.0</td>\n",
       "      <td>0</td>\n",
       "      <td>1</td>\n",
       "      <td>1</td>\n",
       "      <td>1</td>\n",
       "      <td>0</td>\n",
       "      <td>1</td>\n",
       "      <td>117.0</td>\n",
       "      <td>351.0</td>\n",
       "      <td>0</td>\n",
       "      <td>...</td>\n",
       "      <td>2019</td>\n",
       "      <td>1</td>\n",
       "      <td>5</td>\n",
       "      <td>31</td>\n",
       "      <td>3</td>\n",
       "      <td>2021</td>\n",
       "      <td>6</td>\n",
       "      <td>23</td>\n",
       "      <td>8</td>\n",
       "      <td>1</td>\n",
       "    </tr>\n",
       "    <tr>\n",
       "      <th>26</th>\n",
       "      <td>20719.0</td>\n",
       "      <td>0</td>\n",
       "      <td>1</td>\n",
       "      <td>0</td>\n",
       "      <td>1</td>\n",
       "      <td>1</td>\n",
       "      <td>1</td>\n",
       "      <td>757.0</td>\n",
       "      <td>2271.0</td>\n",
       "      <td>0</td>\n",
       "      <td>...</td>\n",
       "      <td>2019</td>\n",
       "      <td>2</td>\n",
       "      <td>7</td>\n",
       "      <td>14</td>\n",
       "      <td>3</td>\n",
       "      <td>2021</td>\n",
       "      <td>3</td>\n",
       "      <td>10</td>\n",
       "      <td>12</td>\n",
       "      <td>4</td>\n",
       "    </tr>\n",
       "    <tr>\n",
       "      <th>28</th>\n",
       "      <td>19642.0</td>\n",
       "      <td>0</td>\n",
       "      <td>1</td>\n",
       "      <td>0</td>\n",
       "      <td>0</td>\n",
       "      <td>1</td>\n",
       "      <td>2</td>\n",
       "      <td>181.0</td>\n",
       "      <td>543.0</td>\n",
       "      <td>1</td>\n",
       "      <td>...</td>\n",
       "      <td>2019</td>\n",
       "      <td>4</td>\n",
       "      <td>17</td>\n",
       "      <td>23</td>\n",
       "      <td>1</td>\n",
       "      <td>2019</td>\n",
       "      <td>10</td>\n",
       "      <td>43</td>\n",
       "      <td>21</td>\n",
       "      <td>0</td>\n",
       "    </tr>\n",
       "    <tr>\n",
       "      <th>31</th>\n",
       "      <td>21603.0</td>\n",
       "      <td>0</td>\n",
       "      <td>0</td>\n",
       "      <td>1</td>\n",
       "      <td>1</td>\n",
       "      <td>0</td>\n",
       "      <td>1</td>\n",
       "      <td>166.0</td>\n",
       "      <td>498.0</td>\n",
       "      <td>0</td>\n",
       "      <td>...</td>\n",
       "      <td>2020</td>\n",
       "      <td>9</td>\n",
       "      <td>39</td>\n",
       "      <td>23</td>\n",
       "      <td>2</td>\n",
       "      <td>2021</td>\n",
       "      <td>3</td>\n",
       "      <td>10</td>\n",
       "      <td>8</td>\n",
       "      <td>0</td>\n",
       "    </tr>\n",
       "  </tbody>\n",
       "</table>\n",
       "<p>5 rows × 32 columns</p>\n",
       "</div>"
      ],
      "text/plain": [
       "    accountsapid  Single_Order  2019  2020  2021  Churn_Rule_year_wise  \\\n",
       "2        17985.0             0     1     1     1                     0   \n",
       "10       18851.0             0     1     1     1                     0   \n",
       "26       20719.0             0     1     0     1                     1   \n",
       "28       19642.0             0     1     0     0                     1   \n",
       "31       21603.0             0     0     1     1                     0   \n",
       "\n",
       "    Churn_Rule_avg_cycle  Median_Days  3_years_cycle  Final_Churn  ...  \\\n",
       "2                      1        174.0          522.0            0  ...   \n",
       "10                     1        117.0          351.0            0  ...   \n",
       "26                     1        757.0         2271.0            0  ...   \n",
       "28                     2        181.0          543.0            1  ...   \n",
       "31                     1        166.0          498.0            0  ...   \n",
       "\n",
       "    FirstOrderedDate_Year  FirstOrderedDate_Month  FirstOrderedDate_Week  \\\n",
       "2                    2019                       2                      6   \n",
       "10                   2019                       1                      5   \n",
       "26                   2019                       2                      7   \n",
       "28                   2019                       4                     17   \n",
       "31                   2020                       9                     39   \n",
       "\n",
       "    FirstOrderedDate_Day  FirstOrderedDate_Dayofweek  LastOrderedDate_Year  \\\n",
       "2                      7                           3                  2021   \n",
       "10                    31                           3                  2021   \n",
       "26                    14                           3                  2021   \n",
       "28                    23                           1                  2019   \n",
       "31                    23                           2                  2021   \n",
       "\n",
       "    LastOrderedDate_Month  LastOrderedDate_Week  LastOrderedDate_Day  \\\n",
       "2                       6                    24                   18   \n",
       "10                      6                    23                    8   \n",
       "26                      3                    10                   12   \n",
       "28                     10                    43                   21   \n",
       "31                      3                    10                    8   \n",
       "\n",
       "    LastOrderedDate_Dayofweek  \n",
       "2                           4  \n",
       "10                          1  \n",
       "26                          4  \n",
       "28                          0  \n",
       "31                          0  \n",
       "\n",
       "[5 rows x 32 columns]"
      ]
     },
     "execution_count": 10,
     "metadata": {},
     "output_type": "execute_result"
    }
   ],
   "source": [
    "median_greater_100_days_data.head()"
   ]
  },
  {
   "cell_type": "code",
   "execution_count": 64,
   "id": "ff6d76cf",
   "metadata": {},
   "outputs": [
    {
     "data": {
      "text/plain": [
       "FirstOrderedDate_Month\n",
       "1     3.731884\n",
       "2     3.562992\n",
       "3     3.548000\n",
       "4     3.496241\n",
       "5     3.381215\n",
       "6     3.000000\n",
       "7     3.090909\n",
       "8     3.030534\n",
       "9     2.801653\n",
       "10    2.644628\n",
       "11    2.702128\n",
       "12    2.711538\n",
       "Name: TotalOrderNumber, dtype: float64"
      ]
     },
     "execution_count": 64,
     "metadata": {},
     "output_type": "execute_result"
    }
   ],
   "source": [
    "median_greater_100_days_data.groupby(by='FirstOrderedDate_Month').mean()['TotalOrderNumber']"
   ]
  },
  {
   "cell_type": "code",
   "execution_count": 65,
   "id": "f6f099af",
   "metadata": {},
   "outputs": [
    {
     "data": {
      "text/plain": [
       "FirstOrderedDate_Month\n",
       "1     43.514414\n",
       "2     10.183983\n",
       "3      6.781523\n",
       "4      5.730032\n",
       "5      4.798214\n",
       "6      5.115596\n",
       "7      6.137097\n",
       "8      4.279891\n",
       "9      3.175234\n",
       "10     3.471178\n",
       "11     3.989583\n",
       "12     3.139004\n",
       "Name: TotalOrderNumber, dtype: float64"
      ]
     },
     "execution_count": 65,
     "metadata": {},
     "output_type": "execute_result"
    }
   ],
   "source": [
    "data[data['Median_Days']<100].groupby(by='FirstOrderedDate_Month')['TotalOrderNumber'].mean()"
   ]
  },
  {
   "cell_type": "markdown",
   "id": "1663dfd9",
   "metadata": {},
   "source": [
    "**Conclusion:**\n",
    "- **Average number of orders per month** by the customers whose **Avg purcahse cycle** > 100 are **more than** that of the people whose **avg purchase cycle is less than 100**.\n",
    "- This Clearly is an Anamoly."
   ]
  },
  {
   "cell_type": "markdown",
   "id": "dd39e9ac",
   "metadata": {},
   "source": [
    "# Behaviour of the Model Probabilites\n",
    "- Checking the Behaviour of Model probabilites with respect to change in sampling proportions.\n",
    "\n",
    "### 50-50% Sample proportions w.r.t Classes."
   ]
  },
  {
   "cell_type": "code",
   "execution_count": 24,
   "id": "2e7d0eef",
   "metadata": {},
   "outputs": [],
   "source": [
    "predictors = data.drop(['Final_Churn','accountsapid'],axis=1)\n",
    "target = data['Final_Churn']\n",
    "train_X, test_X, train_y, test_y = train_test_split(predictors, target, test_size=0.2, random_state=1)\n",
    "LR_kbest = ['Single_Order', '2020', '2021', 'Churn_Rule_year_wise',\n",
    "       'Churn_Rule_avg_cycle', 'Median_Days', '3_years_cycle',\n",
    "       'NumQtrsPerOrder', 'OrderChannel_NonDigital',\n",
    "       'OrderChannel_EProcurement', 'OrderChannel_ECommerce', 'Recency',\n",
    "       'RFM_Score', 'Average_years_taken_per order', 'Orders year wise',\n",
    "       'FirstOrderedDate_Year', 'FirstOrderedDate_Month',\n",
    "       'FirstOrderedDate_Week', 'LastOrderedDate_Year',\n",
    "       'LastOrderedDate_Month', 'LastOrderedDate_Week', 'LastOrderedDate_Day',\n",
    "       'LastOrderedDate_Dayofweek']\n",
    "test_X['Target']=test_y"
   ]
  },
  {
   "cell_type": "markdown",
   "id": "46377b95",
   "metadata": {},
   "source": [
    "- Proportions of the Classes in the Target are primarily kept to **50:50 ratio.**"
   ]
  },
  {
   "cell_type": "code",
   "execution_count": 67,
   "id": "c6f3e7a3",
   "metadata": {},
   "outputs": [
    {
     "data": {
      "image/png": "[encoded data removed]",
      "text/plain": [
       "<Figure size 432x288 with 1 Axes>"
      ]
     },
     "metadata": {
      "needs_background": "light"
     },
     "output_type": "display_data"
    }
   ],
   "source": [
    "sns.countplot(test_X['Target']);"
   ]
  },
  {
   "cell_type": "code",
   "execution_count": 51,
   "id": "117abd20",
   "metadata": {},
   "outputs": [
    {
     "data": {
      "text/plain": [
       "0    943\n",
       "1    937\n",
       "Name: Target, dtype: int64"
      ]
     },
     "execution_count": 51,
     "metadata": {},
     "output_type": "execute_result"
    }
   ],
   "source": [
    "test_X['Target'].value_counts()"
   ]
  },
  {
   "cell_type": "code",
   "execution_count": 81,
   "id": "646e318c",
   "metadata": {},
   "outputs": [
    {
     "data": {
      "text/plain": [
       "LogisticRegression(C=0.015)"
      ]
     },
     "execution_count": 81,
     "metadata": {},
     "output_type": "execute_result"
    }
   ],
   "source": [
    "final_Logistic_Model = LogisticRegression(C=0.015)\n",
    "final_Logistic_Model.fit(train_X[LR_kbest], train_y)"
   ]
  },
  {
   "cell_type": "code",
   "execution_count": 84,
   "id": "06377fab",
   "metadata": {},
   "outputs": [
    {
     "data": {
      "image/png": "[encoded data removed]",
      "text/plain": [
       "<Figure size 432x288 with 1 Axes>"
      ]
     },
     "metadata": {
      "needs_background": "light"
     },
     "output_type": "display_data"
    }
   ],
   "source": [
    "LR_y_pred = final_Logistic_Model.predict_proba(test_X[LR_kbest])\n",
    "a = [i[1] for i in LR_y_pred]\n",
    "sns.distplot(a);"
   ]
  },
  {
   "cell_type": "markdown",
   "id": "3b579f4f",
   "metadata": {},
   "source": [
    "- This looks like a **50-50% portion** where we see **Two peaks** in the probability distribution.\n",
    "- Lets try to resample the sample to a **70-30%** split.\n",
    "### 70-30% Sample proportions w.r.t Classes."
   ]
  },
  {
   "cell_type": "code",
   "execution_count": 85,
   "id": "d0980bf7",
   "metadata": {},
   "outputs": [
    {
     "data": {
      "text/plain": [
       "0    943\n",
       "1    360\n",
       "Name: Target, dtype: int64"
      ]
     },
     "execution_count": 85,
     "metadata": {},
     "output_type": "execute_result"
    }
   ],
   "source": [
    "from sklearn.utils import resample\n",
    "# Separate majority and minority classes\n",
    "df_majority = test_X[test_X.Target==0] #I classified negative class as '0'\n",
    "df_minority = test_X[test_X.Target==1]\n",
    "\n",
    "# Upsample minority class\n",
    "df_minority_upsampled = resample(df_minority, \n",
    "                                 replace=False,       # sample with replacement\n",
    "                                 n_samples=360,    # to match majority class\n",
    "                                 random_state=123)   # reproducible results\n",
    "\n",
    "# Combine majority class with upsampled minority class\n",
    "df_upsampled = pd.concat([df_majority, df_minority_upsampled], axis=0, ignore_index=True)\n",
    "\n",
    "# Display new class counts\n",
    "df_upsampled['Target'].value_counts()"
   ]
  },
  {
   "cell_type": "code",
   "execution_count": null,
   "id": "c7df7a51",
   "metadata": {},
   "outputs": [],
   "source": []
  },
  {
   "cell_type": "code",
   "execution_count": 86,
   "id": "bb4d8708",
   "metadata": {},
   "outputs": [
    {
     "data": {
      "text/plain": [
       "LogisticRegression(C=0.015)"
      ]
     },
     "execution_count": 86,
     "metadata": {},
     "output_type": "execute_result"
    }
   ],
   "source": [
    "final_Logistic_Model = LogisticRegression(C=0.015)\n",
    "final_Logistic_Model.fit(train_X[LR_kbest], train_y)"
   ]
  },
  {
   "cell_type": "code",
   "execution_count": 118,
   "id": "a7bad13e",
   "metadata": {},
   "outputs": [
    {
     "data": {
      "image/png": "[encoded data removed]",
      "text/plain": [
       "<Figure size 432x288 with 1 Axes>"
      ]
     },
     "metadata": {
      "needs_background": "light"
     },
     "output_type": "display_data"
    }
   ],
   "source": [
    "LR_y_pred = final_Logistic_Model.predict_proba(df_upsampled[LR_kbest])\n",
    "a_1 = [i[1] for i in LR_y_pred]\n",
    "b_0 = [i[0] for i in LR_y_pred]\n",
    "sns.distplot(a_1);"
   ]
  },
  {
   "cell_type": "code",
   "execution_count": 111,
   "id": "9fb61e6f",
   "metadata": {},
   "outputs": [
    {
     "data": {
      "image/png": "[encoded data removed]",
      "text/plain": [
       "<Figure size 432x288 with 1 Axes>"
      ]
     },
     "metadata": {
      "needs_background": "light"
     },
     "output_type": "display_data"
    }
   ],
   "source": [
    "sns.distplot(b_0);"
   ]
  },
  {
   "cell_type": "code",
   "execution_count": 117,
   "id": "fd6f17cb",
   "metadata": {},
   "outputs": [
    {
     "name": "stdout",
     "output_type": "stream",
     "text": [
      "Recall Score on the imbalanced test Set is = 0.9416666666666667\n",
      "\n",
      " Value_Counts for the Test Target\n",
      "0    943\n",
      "1    937\n",
      "Name: Final_Churn, dtype: int64\n",
      "\n",
      " Value_Counts for the Predictions\n",
      "0    951\n",
      "1    352\n",
      "dtype: int64\n"
     ]
    }
   ],
   "source": [
    "LR_y_pred = final_Logistic_Model.predict(df_upsampled[LR_kbest])\n",
    "recall_scores = recall_score(df_upsampled['Target'], LR_y_pred)\n",
    "print(f'Recall Score on the imbalanced test Set is = {recall_scores}')\n",
    "print('\\n Value_Counts for the Test Target')\n",
    "print(test_y.value_counts())\n",
    "print('\\n Value_Counts for the Predictions')\n",
    "print(pd.Series(LR_y_pred).value_counts())"
   ]
  },
  {
   "cell_type": "markdown",
   "id": "0a342f08",
   "metadata": {},
   "source": [
    "- This looks like the peak on the other side got depreciated.\n",
    "- **Conclusion:**\n",
    "- **Peaks in the Distribution is totally dependent on the Proportion of the sample.**"
   ]
  },
  {
   "cell_type": "markdown",
   "id": "c1f9b60c",
   "metadata": {},
   "source": [
    "- The Below plot is the **Ideal Line plot** for probabilities for their **Probabilites vs Loss plot**"
   ]
  },
  {
   "cell_type": "code",
   "execution_count": 74,
   "id": "f888ea93",
   "metadata": {},
   "outputs": [
    {
     "data": {
      "image/png": "[encoded data removed]",
      "text/plain": [
       "<Figure size 432x288 with 1 Axes>"
      ]
     },
     "metadata": {
      "needs_background": "light"
     },
     "output_type": "display_data"
    }
   ],
   "source": [
    "yhat = [x*0.01 for x in range(0, 101)]\n",
    "# evaluate predictions for a 0 true value\n",
    "losses_0 = [log_loss([0], [x], labels=[0,1]) for x in yhat]\n",
    "# evaluate predictions for a 1 true value\n",
    "losses_1 = [log_loss([1], [x], labels=[0,1]) for x in yhat]\n",
    "# plot input to loss\n",
    "plt.plot(yhat, losses_0, label='true=0')\n",
    "plt.plot(yhat, losses_1, label='true=1')\n",
    "plt.legend()\n",
    "plt.show()"
   ]
  },
  {
   "cell_type": "markdown",
   "id": "72301665",
   "metadata": {},
   "source": [
    "- Our Model Predictions follow the same Ideal plot and further we can Prove the hypothesis that our model predicted probabilites are valid ones."
   ]
  },
  {
   "cell_type": "code",
   "execution_count": 122,
   "id": "5ae3696c",
   "metadata": {},
   "outputs": [
    {
     "data": {
      "image/png": "[encoded data removed]",
      "text/plain": [
       "<Figure size 432x288 with 1 Axes>"
      ]
     },
     "metadata": {
      "needs_background": "light"
     },
     "output_type": "display_data"
    }
   ],
   "source": [
    "yhat = [x*0.01 for x in range(0, len(LR_y_pred))]\n",
    "# evaluate predictions for a 0 true value\n",
    "# evaluate predictions for a 1 true value\n",
    "losses_0 = [log_loss([0], [x], labels=[0,1]) for x in LR_y_pred]\n",
    "losses_1 = [log_loss([1], [x], labels=[0,1]) for x in LR_y_pred]\n",
    "# plot input to loss\n",
    "plt.plot(a_1, losses_1,'r.', label='true=1')\n",
    "plt.plot(b_0, losses_1,'.', label='true=0')\n",
    "plt.legend()\n",
    "plt.show()"
   ]
  },
  {
   "cell_type": "markdown",
   "id": "b47aa34d",
   "metadata": {},
   "source": [
    "# Multiple transaction users "
   ]
  },
  {
   "cell_type": "code",
   "execution_count": 54,
   "id": "2ac54685",
   "metadata": {},
   "outputs": [],
   "source": [
    "new_data = pd.read_csv('Preprocessed_data.csv')\n"
   ]
  },
  {
   "cell_type": "code",
   "execution_count": 55,
   "id": "082d2021",
   "metadata": {},
   "outputs": [],
   "source": [
    "MultipleTrans_users = new_data.groupby('Single_Order').get_group(0)"
   ]
  },
  {
   "cell_type": "code",
   "execution_count": 90,
   "id": "3be8c773",
   "metadata": {},
   "outputs": [
    {
     "data": {
      "text/plain": [
       "FirstOrderedDate_Month\n",
       "1     53.377269\n",
       "2     15.308600\n",
       "3     12.368550\n",
       "4     11.784672\n",
       "5     10.068376\n",
       "6     12.079208\n",
       "7     11.431694\n",
       "8      8.203593\n",
       "9      6.584337\n",
       "10     7.105590\n",
       "11     8.111801\n",
       "12     6.813559\n",
       "Name: TotalOrderNumber, dtype: float64"
      ]
     },
     "execution_count": 90,
     "metadata": {},
     "output_type": "execute_result"
    }
   ],
   "source": [
    "median_greater_100_days_data = MultipleTrans_users[MultipleTrans_users['Median_Days']<100]\n",
    "median_greater_100_days_data.groupby(by='FirstOrderedDate_Month').mean()['TotalOrderNumber']\n",
    "#MultipleTrans_users[MultipleTrans_users['Median_Days']<100].groupby(by='FirstOrderedDate_Month')['TotalOrderNumber'].mean()"
   ]
  },
  {
   "cell_type": "markdown",
   "id": "27ece50a",
   "metadata": {},
   "source": [
    "# Questions Asked"
   ]
  },
  {
   "cell_type": "markdown",
   "id": "35aac00e",
   "metadata": {},
   "source": [
    "### Reason why purchase cycle is long ?\n",
    "- Let us firstly see the distribution of the Median Data(Average Purchase Cycle).\n"
   ]
  },
  {
   "cell_type": "code",
   "execution_count": 56,
   "id": "1b5182f6",
   "metadata": {},
   "outputs": [
    {
     "data": {
      "image/png": "[encoded data removed]",
      "text/plain": [
       "<Figure size 864x720 with 1 Axes>"
      ]
     },
     "metadata": {
      "needs_background": "light"
     },
     "output_type": "display_data"
    }
   ],
   "source": [
    "fig = plt.figure(figsize=(12,10))\n",
    "sns.distplot(MultipleTrans_users['Median_Days']);"
   ]
  },
  {
   "cell_type": "markdown",
   "id": "aebb7bf8",
   "metadata": {},
   "source": [
    "- Single transaction users will not have average purchase cycle "
   ]
  },
  {
   "cell_type": "code",
   "execution_count": 88,
   "id": "2c8403bc",
   "metadata": {},
   "outputs": [
    {
     "data": {
      "text/plain": [
       "0    1728\n",
       "1     206\n",
       "Name: Final_Churn, dtype: int64"
      ]
     },
     "execution_count": 88,
     "metadata": {},
     "output_type": "execute_result"
    }
   ],
   "source": [
    "MultipleTrans_users.query('Median_Days>100')['Final_Churn'].value_counts()"
   ]
  },
  {
   "cell_type": "code",
   "execution_count": 89,
   "id": "90c72b06",
   "metadata": {},
   "outputs": [
    {
     "data": {
      "text/plain": [
       "0.10651499482936919"
      ]
     },
     "execution_count": 89,
     "metadata": {},
     "output_type": "execute_result"
    }
   ],
   "source": [
    "206 / (1728 + 206)"
   ]
  },
  {
   "cell_type": "code",
   "execution_count": 16,
   "id": "79f9ab9f",
   "metadata": {},
   "outputs": [
    {
     "name": "stdout",
     "output_type": "stream",
     "text": [
      "At 0.1 quantile value is 11.0\n",
      "At 0.1473684210526316 quantile value is 15.0\n",
      "At 0.19473684210526315 quantile value is 20.0\n",
      "At 0.24210526315789474 quantile value is 24.0\n",
      "At 0.2894736842105263 quantile value is 28.0\n",
      "At 0.33684210526315794 quantile value is 34.0\n",
      "At 0.38421052631578945 quantile value is 39.0\n",
      "At 0.43157894736842106 quantile value is 45.0\n",
      "At 0.4789473684210527 quantile value is 53.0\n",
      "At 0.5263157894736842 quantile value is 61.0\n",
      "At 0.5736842105263158 quantile value is 71.0\n",
      "At 0.6210526315789474 quantile value is 83.0\n",
      "At 0.6684210526315789 quantile value is 98.0\n",
      "At 0.7157894736842105 quantile value is 117.0\n",
      "At 0.7631578947368421 quantile value is 142.86842105263167\n",
      "At 0.8105263157894737 quantile value is 177.0\n",
      "At 0.8578947368421053 quantile value is 224.0\n",
      "At 0.9052631578947369 quantile value is 293.0\n",
      "At 0.9526315789473684 quantile value is 404.0\n",
      "At 1.0 quantile value is 855.0\n"
     ]
    }
   ],
   "source": [
    "quantiles = np.linspace(0.1,1,20)\n",
    "for quant in quantiles:\n",
    "    value=MultipleTrans_users['Median_Days'].quantile(quant)\n",
    "    print(f'At {quant} quantile value is {value}')"
   ]
  },
  {
   "cell_type": "code",
   "execution_count": null,
   "id": "73bf2eba",
   "metadata": {},
   "outputs": [],
   "source": []
  },
  {
   "cell_type": "code",
   "execution_count": 92,
   "id": "f08dcb90",
   "metadata": {},
   "outputs": [],
   "source": [
    "predictors = MultipleTrans_users.drop(['Final_Churn','accountsapid'],axis=1)\n",
    "target = MultipleTrans_users['Final_Churn']\n",
    "train_X, test_X, train_y, test_y = train_test_split(predictors, target, test_size=0.2, random_state=1)\n",
    "LR_kbest = ['Single_Order', '2020', '2021', 'Churn_Rule_year_wise',\n",
    "       'Churn_Rule_avg_cycle', 'Median_Days', '3_years_cycle',\n",
    "       'NumQtrsPerOrder', 'OrderChannel_NonDigital',\n",
    "       'OrderChannel_EProcurement', 'OrderChannel_ECommerce', 'Recency',\n",
    "       'RFM_Score', 'Average_years_taken_per order', 'Orders year wise',\n",
    "       'FirstOrderedDate_Year', 'FirstOrderedDate_Month',\n",
    "       'FirstOrderedDate_Week', 'LastOrderedDate_Year',\n",
    "       'LastOrderedDate_Month', 'LastOrderedDate_Week', 'LastOrderedDate_Day',\n",
    "       'LastOrderedDate_Dayofweek']\n",
    "test_X['Target']=test_y\n"
   ]
  },
  {
   "cell_type": "code",
   "execution_count": 93,
   "id": "1cfe3d42",
   "metadata": {},
   "outputs": [
    {
     "data": {
      "image/png": "[encoded data removed]",
      "text/plain": [
       "<Figure size 432x288 with 1 Axes>"
      ]
     },
     "metadata": {
      "needs_background": "light"
     },
     "output_type": "display_data"
    }
   ],
   "source": [
    "sns.countplot(target);"
   ]
  },
  {
   "cell_type": "markdown",
   "id": "5cf53811",
   "metadata": {},
   "source": [
    "- As we can see when users are doing multiple transactions then ***churn rate*** is low i.e ***36%***"
   ]
  },
  {
   "cell_type": "code",
   "execution_count": 94,
   "id": "0d36faa9",
   "metadata": {},
   "outputs": [
    {
     "data": {
      "image/png": "[encoded data removed]",
      "text/plain": [
       "<Figure size 432x288 with 1 Axes>"
      ]
     },
     "metadata": {
      "needs_background": "light"
     },
     "output_type": "display_data"
    }
   ],
   "source": [
    "final_Logistic_Model = LogisticRegression(C=0.015)\n",
    "final_Logistic_Model.fit(train_X[LR_kbest], train_y)\n",
    "\n",
    "LR_y_pred = final_Logistic_Model.predict_proba(test_X[LR_kbest])\n",
    "a = [i[1] for i in LR_y_pred]\n",
    "sns.distplot(a);"
   ]
  },
  {
   "cell_type": "markdown",
   "id": "026e8978",
   "metadata": {},
   "source": [
    "- **Peaks in the Distribution is totally dependent on the Proportion of the sample.**"
   ]
  },
  {
   "cell_type": "code",
   "execution_count": 95,
   "id": "4bcd84b4",
   "metadata": {},
   "outputs": [
    {
     "name": "stdout",
     "output_type": "stream",
     "text": [
      "0.9276094276094277\n",
      "Recall Score on the imbalanced test Set is = 0.8537735849056604\n",
      "\n",
      " Value_Counts for the Test Target\n",
      "0    764\n",
      "1    424\n",
      "Name: Final_Churn, dtype: int64\n",
      "\n",
      " Value_Counts for the Predictions\n",
      "0    802\n",
      "1    386\n",
      "dtype: int64\n"
     ]
    }
   ],
   "source": [
    "LR_y_pred = final_Logistic_Model.predict(test_X[LR_kbest])\n",
    "recall_scores = recall_score(test_y, LR_y_pred)\n",
    "print(accuracy_score(test_y, LR_y_pred))\n",
    "print(f'Recall Score on the imbalanced test Set is = {recall_scores}')\n",
    "print('\\n Value_Counts for the Test Target')\n",
    "print(test_y.value_counts())\n",
    "print('\\n Value_Counts for the Predictions')\n",
    "print(pd.Series(LR_y_pred).value_counts())"
   ]
  },
  {
   "cell_type": "code",
   "execution_count": 60,
   "id": "c473e6aa",
   "metadata": {},
   "outputs": [
    {
     "data": {
      "image/png": "[encoded data removed]",
      "text/plain": [
       "<Figure size 432x288 with 1 Axes>"
      ]
     },
     "metadata": {
      "needs_background": "light"
     },
     "output_type": "display_data"
    }
   ],
   "source": [
    "yhat = [x*0.01 for x in range(0, 101)]\n",
    "# evaluate predictions for a 0 true value\n",
    "losses_0 = [log_loss([0], [x], labels=[0,1]) for x in yhat]\n",
    "# evaluate predictions for a 1 true value\n",
    "losses_1 = [log_loss([1], [x], labels=[0,1]) for x in yhat]\n",
    "# plot input to loss\n",
    "plt.plot(yhat, losses_0, label='true=0')\n",
    "plt.plot(yhat, losses_1, label='true=1')\n",
    "plt.legend()\n",
    "plt.show()"
   ]
  },
  {
   "cell_type": "code",
   "execution_count": 61,
   "id": "38c07151",
   "metadata": {},
   "outputs": [],
   "source": [
    "LR_y_pred = final_Logistic_Model.predict_proba(test_X[LR_kbest])\n",
    "a_1 = [i[1] for i in LR_y_pred]\n",
    "b_0 = [i[0] for i in LR_y_pred]"
   ]
  },
  {
   "cell_type": "code",
   "execution_count": 62,
   "id": "7380d700",
   "metadata": {},
   "outputs": [
    {
     "data": {
      "image/png": "[encoded data removed]",
      "text/plain": [
       "<Figure size 432x288 with 1 Axes>"
      ]
     },
     "metadata": {
      "needs_background": "light"
     },
     "output_type": "display_data"
    }
   ],
   "source": [
    "yhat = [x*0.01 for x in range(0, len(LR_y_pred))]\n",
    "# evaluate predictions for a 0 true value\n",
    "# evaluate predictions for a 1 true value\n",
    "losses_0 = [log_loss([0], [x], labels=[0,1]) for x in LR_y_pred]\n",
    "losses_1 = [log_loss([1], [x], labels=[0,1]) for x in LR_y_pred]\n",
    "# plot input to loss\n",
    "plt.plot(a_1, losses_1,'r.', label='true=1')\n",
    "plt.plot(b_0, losses_1,'.', label='true=0')\n",
    "plt.legend()\n",
    "plt.show()"
   ]
  },
  {
   "cell_type": "markdown",
   "id": "8a26c057",
   "metadata": {},
   "source": [
    "- Our Model Predictions follow the same Ideal plot and further we can Prove the hypothesis that our model predicted probabilites are valid ones."
   ]
  },
  {
   "cell_type": "code",
   "execution_count": 63,
   "id": "264566e7",
   "metadata": {},
   "outputs": [],
   "source": [
    "def plot_caliberative_curve(test_y,pred_y):\n",
    "    \"\"\"\n",
    "    Description : Calibration curve tells you how much off are the probabilities returned by the model\n",
    "    from the ideal frequentist probabilities\n",
    "    \n",
    "    Parameter : test data, predicted data\n",
    "    \n",
    "    Output: caliberative curve  \n",
    "    \"\"\"\n",
    "    plt.rcParams.update({'font.size': 10})\n",
    "    frac_of_positives, pred_prob = calibration_curve(test_y,pred_y[:,-1], n_bins=10)\n",
    "    sns.lineplot(x=pred_prob, y=frac_of_positives)\n",
    "    plt.plot([0,1],[0,1])\n",
    "    plt.grid(linestyle='-', linewidth=0.2)\n",
    "    plt.title(\"Probability vs Fraction of Positives\")\n",
    "    xlabel = plt.xlabel(\"Probability of positive\")\n",
    "    ylabel = plt.ylabel(\"Fraction of positives\")\n",
    "    ticks = [0, 0.2, 0.4, 0.6, 0.8, 1]\n",
    "    xticks = plt.xticks(ticks)\n",
    "    yticks = plt.yticks(ticks)\n",
    "    "
   ]
  },
  {
   "cell_type": "code",
   "execution_count": 64,
   "id": "17930428",
   "metadata": {},
   "outputs": [
    {
     "data": {
      "image/png": "[encoded data removed]",
      "text/plain": [
       "<Figure size 432x288 with 1 Axes>"
      ]
     },
     "metadata": {
      "needs_background": "light"
     },
     "output_type": "display_data"
    }
   ],
   "source": [
    "LR_y_pred = final_Logistic_Model.predict_proba(test_X[LR_kbest])\n",
    "plot_caliberative_curve(test_y,LR_y_pred)\n"
   ]
  },
  {
   "cell_type": "markdown",
   "id": "0ce0e7e3",
   "metadata": {},
   "source": [
    "- Calibration curve tells you how much off are the probabilities returned by the model from the ideal frequentist probabilities\n",
    "\n",
    "- Ideally, all points should be ***on the diagonal***. That would mean the model is ***perfectly calibrated*** and its probability estimates are trustworthy.In this Blue line is approximate to diagonal .\n",
    "\n",
    "- Training a calibration model requires having a separate validation set or performing cross-validation to avoid overfitting.\n",
    "\n",
    "- As ***More features*** contributing to the ***model*** then more the chances of the calliberative curve to ***become diagonal*** \n",
    "  and then it will justify our probability score more \n",
    "- If we are increassing ***Regularization parameter*** then it is also ending somewhere towards diagonal but in that case overfitting problem could rise . But after increasing the regularization parameter then at some point it\n",
    "  will move away from the diagonal"
   ]
  },
  {
   "cell_type": "markdown",
   "id": "2f217c7d",
   "metadata": {},
   "source": [
    "# Single transaction\n"
   ]
  },
  {
   "cell_type": "code",
   "execution_count": 65,
   "id": "605bc32b",
   "metadata": {},
   "outputs": [],
   "source": [
    "SingTraans_users = new_data.groupby('Single_Order').get_group(1)\n"
   ]
  },
  {
   "cell_type": "code",
   "execution_count": 75,
   "id": "6b3f6066",
   "metadata": {},
   "outputs": [],
   "source": [
    "predictors = SingTraans_users.drop(['Final_Churn','accountsapid'],axis=1)\n",
    "target = SingTraans_users['Final_Churn']\n",
    "train_X, test_X, train_y, test_y = train_test_split(predictors, target, test_size=0.2, random_state=1)\n",
    "LR_kbest = ['Single_Order', '2020', '2021', 'Churn_Rule_year_wise',\n",
    "\n",
    "       'NumQtrsPerOrder', 'OrderChannel_NonDigital',\n",
    "       'OrderChannel_EProcurement', 'OrderChannel_ECommerce', 'Recency',\n",
    "       'RFM_Score', 'Average_years_taken_per order', 'Orders year wise',\n",
    "       'FirstOrderedDate_Year', 'FirstOrderedDate_Month',\n",
    "       'FirstOrderedDate_Week', 'LastOrderedDate_Year',\n",
    "       'LastOrderedDate_Month', 'LastOrderedDate_Week', 'LastOrderedDate_Day',\n",
    "       'LastOrderedDate_Dayofweek']\n",
    "test_X['Target']=test_y\n",
    "\n"
   ]
  },
  {
   "cell_type": "code",
   "execution_count": 76,
   "id": "6f73cb20",
   "metadata": {},
   "outputs": [
    {
     "data": {
      "image/png": "[encoded data removed]",
      "text/plain": [
       "<Figure size 432x288 with 1 Axes>"
      ]
     },
     "metadata": {
      "needs_background": "light"
     },
     "output_type": "display_data"
    }
   ],
   "source": [
    "sns.countplot(target);"
   ]
  },
  {
   "cell_type": "markdown",
   "id": "e562a970",
   "metadata": {},
   "source": [
    "- So From this countplot we can say that our single transaction users are more likely to churn out and according  to data ***76% users*** are churning out "
   ]
  },
  {
   "cell_type": "markdown",
   "id": "ada96d05",
   "metadata": {},
   "source": [
    "### Data is imbalance so it will give bias result "
   ]
  },
  {
   "cell_type": "code",
   "execution_count": 77,
   "id": "95d2a851",
   "metadata": {},
   "outputs": [
    {
     "data": {
      "image/png": "[encoded data removed]",
      "text/plain": [
       "<Figure size 432x288 with 1 Axes>"
      ]
     },
     "metadata": {
      "needs_background": "light"
     },
     "output_type": "display_data"
    }
   ],
   "source": [
    "final_Logistic_Model = LogisticRegression(C=0.015)\n",
    "final_Logistic_Model.fit(train_X[LR_kbest], train_y)\n",
    "\n",
    "LR_y_pred = final_Logistic_Model.predict_proba(test_X[LR_kbest])\n",
    "a = [i[1] for i in LR_y_pred]\n",
    "sns.distplot(a);"
   ]
  },
  {
   "cell_type": "code",
   "execution_count": 78,
   "id": "048240c4",
   "metadata": {},
   "outputs": [
    {
     "name": "stdout",
     "output_type": "stream",
     "text": [
      "Recall Score on the imbalanced test Set is = 1.0\n",
      "\n",
      " Value_Counts for the Test Target\n",
      "1    527\n",
      "0    165\n",
      "Name: Final_Churn, dtype: int64\n",
      "\n",
      " Value_Counts for the Predictions\n",
      "1    527\n",
      "0    165\n",
      "dtype: int64\n"
     ]
    }
   ],
   "source": [
    "LR_y_pred = final_Logistic_Model.predict(test_X[LR_kbest])\n",
    "recall_scores = recall_score(test_y, LR_y_pred)\n",
    "print(f'Recall Score on the imbalanced test Set is = {recall_scores}')\n",
    "print('\\n Value_Counts for the Test Target')\n",
    "print(test_y.value_counts())\n",
    "print('\\n Value_Counts for the Predictions')\n",
    "print(pd.Series(LR_y_pred).value_counts())"
   ]
  },
  {
   "cell_type": "code",
   "execution_count": 79,
   "id": "aaef2c2b",
   "metadata": {},
   "outputs": [],
   "source": [
    "LR_y_pred = final_Logistic_Model.predict_proba(test_X[LR_kbest])\n",
    "a_1 = [i[1] for i in LR_y_pred]\n",
    "b_0 = [i[0] for i in LR_y_pred]\n"
   ]
  },
  {
   "cell_type": "code",
   "execution_count": 80,
   "id": "a6e8008e",
   "metadata": {},
   "outputs": [
    {
     "data": {
      "image/png": "[encoded data removed]",
      "text/plain": [
       "<Figure size 432x288 with 1 Axes>"
      ]
     },
     "metadata": {
      "needs_background": "light"
     },
     "output_type": "display_data"
    }
   ],
   "source": [
    "yhat = [x*0.01 for x in range(0, len(LR_y_pred))]\n",
    "# evaluate predictions for a 0 true value\n",
    "# evaluate predictions for a 1 true value\n",
    "losses_0 = [log_loss([0], [x], labels=[0,1]) for x in LR_y_pred]\n",
    "losses_1 = [log_loss([1], [x], labels=[0,1]) for x in LR_y_pred]\n",
    "# plot input to loss\n",
    "plt.plot(a_1, losses_1,'r.', label='true=1')\n",
    "plt.plot(b_0, losses_1,'.', label='true=0')\n",
    "plt.legend()\n",
    "plt.show()"
   ]
  },
  {
   "cell_type": "code",
   "execution_count": 81,
   "id": "fcb58363",
   "metadata": {},
   "outputs": [
    {
     "data": {
      "image/png": "[encoded data removed]",
      "text/plain": [
       "<Figure size 432x288 with 1 Axes>"
      ]
     },
     "metadata": {
      "needs_background": "light"
     },
     "output_type": "display_data"
    }
   ],
   "source": [
    "LR_y_pred = final_Logistic_Model.predict_proba(test_X[LR_kbest])\n",
    "plot_caliberative_curve(test_y,LR_y_pred)\n"
   ]
  },
  {
   "cell_type": "code",
   "execution_count": null,
   "id": "0c73f25a",
   "metadata": {},
   "outputs": [],
   "source": []
  }
 ],
 "metadata": {
  "kernelspec": {
   "display_name": "Python 3",
   "language": "python",
   "name": "python3"
  },
  "language_info": {
   "codemirror_mode": {
    "name": "ipython",
    "version": 3
   },
   "file_extension": ".py",
   "mimetype": "text/x-python",
   "name": "python",
   "nbconvert_exporter": "python",
   "pygments_lexer": "ipython3",
   "version": "3.8.5"
  }
 },
 "nbformat": 4,
 "nbformat_minor": 5
}
